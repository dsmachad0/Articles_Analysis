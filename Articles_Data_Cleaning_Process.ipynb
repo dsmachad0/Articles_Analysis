{
    "metadata": {
        "kernelspec": {
            "name": "SQL",
            "display_name": "SQL",
            "language": "sql"
        },
        "language_info": {
            "name": "sql",
            "version": ""
        }
    },
    "nbformat_minor": 2,
    "nbformat": 4,
    "cells": [
        {
            "cell_type": "markdown",
            "source": [
                "# Data Cleaning Process\n",
                "\n",
                "Before performing data analysis on the Articles Database, a few data cleaning steps are required such as dropping invalid columns and altering data types. \n",
                "\n",
                "- Refer to the data dictionary for more details.\n",
                "\n",
                "## 1.  First look at the Dataset."
            ],
            "metadata": {
                "azdata_cell_guid": "52780a91-142c-47a0-b5bb-8e0b7e342274"
            },
            "attachments": {}
        },
        {
            "cell_type": "code",
            "source": [
                "SELECT TOP(5) *\r\n",
                "FROM [dbo].[article_data]"
            ],
            "metadata": {
                "azdata_cell_guid": "a3c2f897-581b-4549-8bac-b0eafb3e10f3"
            },
            "outputs": [
                {
                    "output_type": "display_data",
                    "data": {
                        "text/html": "(5 rows affected)"
                    },
                    "metadata": {}
                },
                {
                    "output_type": "display_data",
                    "data": {
                        "text/html": "Total execution time: 00:00:00.108"
                    },
                    "metadata": {}
                },
                {
                    "output_type": "execute_result",
                    "execution_count": 1,
                    "data": {
                        "application/vnd.dataresource+json": {
                            "schema": {
                                "fields": [
                                    {
                                        "name": "source_id"
                                    },
                                    {
                                        "name": "source_name"
                                    },
                                    {
                                        "name": "author"
                                    },
                                    {
                                        "name": "title"
                                    },
                                    {
                                        "name": "description"
                                    },
                                    {
                                        "name": "F6"
                                    },
                                    {
                                        "name": "url"
                                    },
                                    {
                                        "name": "url_to_image"
                                    },
                                    {
                                        "name": "published_at"
                                    },
                                    {
                                        "name": "top_article"
                                    },
                                    {
                                        "name": "engagement_reaction_count"
                                    },
                                    {
                                        "name": "engagement_comment_count"
                                    },
                                    {
                                        "name": "engagement_share_count"
                                    },
                                    {
                                        "name": "engagement_comment_plugin_count"
                                    }
                                ]
                            },
                            "data": [
                                {
                                    "0": "reuters",
                                    "1": "Reuters",
                                    "2": "Reuters Editorial",
                                    "3": "NTSB says Autopilot engaged in 2018 California Tesla crash",
                                    "4": "The National Transportation Safety Board said Tuesday a Tesla Model S was in Autopilot mode when it struck a fire truck in Culver City, California -- one of a series of crashes the board is investigating involving Tesla's driver assistance system.",
                                    "5": "NULL",
                                    "6": "https://www.reuters.com/article/us-tesla-crash-idUSKCN1VO22E",
                                    "7": "https://s4.reutersmedia.net/resources/r/?m=02&d=20190903&t=2&i=1425817142&w=1200&r=LYNXNPEF821HS",
                                    "8": "2019-09-03T16:22:20Z",
                                    "9": "0",
                                    "10": "0",
                                    "11": "0",
                                    "12": "2528",
                                    "13": "0"
                                },
                                {
                                    "0": "the-irish-times",
                                    "1": "The Irish Times",
                                    "2": "Eoin Burke-Kennedy",
                                    "3": "Unemployment falls to post-crash low of 5.2%",
                                    "4": "Latest monthly figures reflect continued growth in headline employment",
                                    "5": "NULL",
                                    "6": "https://www.irishtimes.com/business/economy/unemployment-falls-to-post-crash-low-of-5-2-1.4006266",
                                    "7": "https://www.irishtimes.com/image-creator/?id=1.4006265&origw=620",
                                    "8": "2019-09-03T10:32:28Z",
                                    "9": "0",
                                    "10": "6",
                                    "11": "10",
                                    "12": "2",
                                    "13": "0"
                                },
                                {
                                    "0": "the-irish-times",
                                    "1": "The Irish Times",
                                    "2": "Deirdre McQuillan",
                                    "3": "Louise Kennedy AW2019: Long coats, sparkling tweed dresses and emerald knits",
                                    "4": "Autumn-winter collection features designerâ€™s glittering take on Black Watch tartan",
                                    "5": "NULL",
                                    "6": "https://www.irishtimes.com/\t\t\t\t\t\t\t/life-and-style/fashion/louise-kennedy-aw2019-long-coats-sparkling-tweed-dresses-and-emerald-knits-1.4006504\t",
                                    "7": "https://www.irishtimes.com/image-creator/?id=1.4006499&origw=1200",
                                    "8": "2019-09-03T14:40:00Z",
                                    "9": "1",
                                    "10": "NULL",
                                    "11": "NULL",
                                    "12": "NULL",
                                    "13": "NULL"
                                },
                                {
                                    "0": "al-jazeera-english",
                                    "1": "Al Jazeera English",
                                    "2": "Al Jazeera",
                                    "3": "North Korean footballer Han joins Italian giants Juventus",
                                    "4": "Han is the first North Korean player in the Serie A and was praised during his appearances during youth World Cups.",
                                    "5": "NULL",
                                    "6": "https://www.aljazeera.com/news/2019/09/north-korean-footballer-han-joins-italian-giants-juventus-190903164640390.html",
                                    "7": "https://www.aljazeera.com/mritems/Images/2019/9/3/23c9eebde4cb4c3b91d9e5f36ab1d65c_18.jpg",
                                    "8": "2019-09-03T17:25:39Z",
                                    "9": "0",
                                    "10": "0",
                                    "11": "0",
                                    "12": "7",
                                    "13": "0"
                                },
                                {
                                    "0": "bbc-news",
                                    "1": "BBC News",
                                    "2": "BBC News",
                                    "3": "UK government lawyer says proroguing parliament 'political not legal'",
                                    "4": "The UK government's lawyer, David Johnston argued that proroguing parliament was a political decision for the government, rather than a legal matter for the court to decide.",
                                    "5": "NULL",
                                    "6": "https://www.bbc.co.uk/news/av/uk-scotland-49564244/uk-government-lawyer-says-proroguing-parliament-political-not-legal",
                                    "7": "https://ichef.bbci.co.uk/news/1024/branded_news/3F83/production/_108595261_p07mbm5m.jpg",
                                    "8": "2019-09-03T14:39:21Z",
                                    "9": "0",
                                    "10": "0",
                                    "11": "0",
                                    "12": "0",
                                    "13": "0"
                                }
                            ]
                        },
                        "text/html": "<table><tr><th>source_id</th><th>source_name</th><th>author</th><th>title</th><th>description</th><th>F6</th><th>url</th><th>url_to_image</th><th>published_at</th><th>top_article</th><th>engagement_reaction_count</th><th>engagement_comment_count</th><th>engagement_share_count</th><th>engagement_comment_plugin_count</th></tr><tr><td>reuters</td><td>Reuters</td><td>Reuters Editorial</td><td>NTSB says Autopilot engaged in 2018 California Tesla crash</td><td>The National Transportation Safety Board said Tuesday a Tesla Model S was in Autopilot mode when it struck a fire truck in Culver City, California -- one of a series of crashes the board is investigating involving Tesla's driver assistance system.</td><td>NULL</td><td>https://www.reuters.com/article/us-tesla-crash-idUSKCN1VO22E</td><td>https://s4.reutersmedia.net/resources/r/?m=02&amp;d=20190903&amp;t=2&amp;i=1425817142&amp;w=1200&amp;r=LYNXNPEF821HS</td><td>2019-09-03T16:22:20Z</td><td>0</td><td>0</td><td>0</td><td>2528</td><td>0</td></tr><tr><td>the-irish-times</td><td>The Irish Times</td><td>Eoin Burke-Kennedy</td><td>Unemployment falls to post-crash low of 5.2%</td><td>Latest monthly figures reflect continued growth in headline employment</td><td>NULL</td><td>https://www.irishtimes.com/business/economy/unemployment-falls-to-post-crash-low-of-5-2-1.4006266</td><td>https://www.irishtimes.com/image-creator/?id=1.4006265&amp;origw=620</td><td>2019-09-03T10:32:28Z</td><td>0</td><td>6</td><td>10</td><td>2</td><td>0</td></tr><tr><td>the-irish-times</td><td>The Irish Times</td><td>Deirdre McQuillan</td><td>Louise Kennedy AW2019: Long coats, sparkling tweed dresses and emerald knits</td><td>Autumn-winter collection features designerâ€™s glittering take on Black Watch tartan</td><td>NULL</td><td>https://www.irishtimes.com/\t\t\t\t\t\t\t/life-and-style/fashion/louise-kennedy-aw2019-long-coats-sparkling-tweed-dresses-and-emerald-knits-1.4006504\t</td><td>https://www.irishtimes.com/image-creator/?id=1.4006499&amp;origw=1200</td><td>2019-09-03T14:40:00Z</td><td>1</td><td>NULL</td><td>NULL</td><td>NULL</td><td>NULL</td></tr><tr><td>al-jazeera-english</td><td>Al Jazeera English</td><td>Al Jazeera</td><td>North Korean footballer Han joins Italian giants Juventus</td><td>Han is the first North Korean player in the Serie A and was praised during his appearances during youth World Cups.</td><td>NULL</td><td>https://www.aljazeera.com/news/2019/09/north-korean-footballer-han-joins-italian-giants-juventus-190903164640390.html</td><td>https://www.aljazeera.com/mritems/Images/2019/9/3/23c9eebde4cb4c3b91d9e5f36ab1d65c_18.jpg</td><td>2019-09-03T17:25:39Z</td><td>0</td><td>0</td><td>0</td><td>7</td><td>0</td></tr><tr><td>bbc-news</td><td>BBC News</td><td>BBC News</td><td>UK government lawyer says proroguing parliament 'political not legal'</td><td>The UK government's lawyer, David Johnston argued that proroguing parliament was a political decision for the government, rather than a legal matter for the court to decide.</td><td>NULL</td><td>https://www.bbc.co.uk/news/av/uk-scotland-49564244/uk-government-lawyer-says-proroguing-parliament-political-not-legal</td><td>https://ichef.bbci.co.uk/news/1024/branded_news/3F83/production/_108595261_p07mbm5m.jpg</td><td>2019-09-03T14:39:21Z</td><td>0</td><td>0</td><td>0</td><td>0</td><td>0</td></tr></table>"
                    },
                    "metadata": {}
                }
            ],
            "execution_count": 1
        },
        {
            "cell_type": "markdown",
            "source": [
                "## 2\\. Dropping Invalid Column and Changing Data Types.\n",
                "\n",
                "Since column \"F6\"  is invalid, we will be excluding the column and changing columns that have a data type of float to integer."
            ],
            "metadata": {
                "azdata_cell_guid": "199e9152-3ef2-490c-9b7a-37e067afa514"
            },
            "attachments": {}
        },
        {
            "cell_type": "code",
            "source": [
                "-- Drpping invalid column\r\n",
                "ALTER TABLE [dbo].[article_data]\r\n",
                "DROP COLUMN F6 "
            ],
            "metadata": {
                "azdata_cell_guid": "0d3da092-df18-45bf-868b-a53a4a99b2d4"
            },
            "outputs": [],
            "execution_count": null
        },
        {
            "cell_type": "code",
            "source": [
                "-- Altering columns data type from float to integer\r\n",
                "ALTER TABLE [dbo].[article_data]\r\n",
                "ALTER COLUMN engagement_reaction_count INT\r\n",
                "\r\n",
                "ALTER TABLE [dbo].[article_data]\r\n",
                "ALTER COLUMN engagement_comment_count INT\r\n",
                "\r\n",
                "ALTER TABLE [dbo].[article_data]\r\n",
                "ALTER COLUMN engagement_share_count INT\r\n",
                "\r\n",
                "ALTER TABLE [dbo].[article_data]\r\n",
                "ALTER COLUMN engagement_comment_plugin_count INT"
            ],
            "metadata": {
                "azdata_cell_guid": "640322e8-2987-4358-851e-78043e5150fb"
            },
            "outputs": [
                {
                    "output_type": "display_data",
                    "data": {
                        "text/html": "Commands completed successfully."
                    },
                    "metadata": {}
                },
                {
                    "output_type": "display_data",
                    "data": {
                        "text/html": "Total execution time: 00:00:00.139"
                    },
                    "metadata": {}
                }
            ],
            "execution_count": 4
        }
    ]
}